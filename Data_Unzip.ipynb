{
  "nbformat": 4,
  "nbformat_minor": 0,
  "metadata": {
    "colab": {
      "private_outputs": true,
      "provenance": [],
      "machine_shape": "hm",
      "gpuType": "T4",
      "mount_file_id": "1uLz1IxvqOwkxE5PNygiUyIUpRHGQm8CG",
      "authorship_tag": "ABX9TyP5FP/zAx1RK1Bb0rMZGVRA",
      "include_colab_link": true
    },
    "kernelspec": {
      "name": "python3",
      "display_name": "Python 3"
    },
    "language_info": {
      "name": "python"
    },
    "accelerator": "GPU"
  },
  "cells": [
    {
      "cell_type": "markdown",
      "metadata": {
        "id": "view-in-github",
        "colab_type": "text"
      },
      "source": [
        "<a href=\"https://colab.research.google.com/github/Hyunnnnnnn/Plastic-self-classification-system-using-deep-learning/blob/Machine-Learning/Data_Unzip.ipynb\" target=\"_parent\"><img src=\"https://colab.research.google.com/assets/colab-badge.svg\" alt=\"Open In Colab\"/></a>"
      ]
    },
    {
      "cell_type": "code",
      "execution_count": null,
      "metadata": {
        "id": "O5mwNIJdVxRk"
      },
      "outputs": [],
      "source": [
        "from google.colab import drive\n",
        "drive.mount('/content/drive')"
      ]
    },
    {
      "cell_type": "code",
      "source": [],
      "metadata": {
        "id": "PgG4BkMpU4qw"
      },
      "execution_count": null,
      "outputs": []
    },
    {
      "cell_type": "code",
      "source": [
        "import os\n",
        "import glob\n",
        "import zipfile\n",
        "import shutil"
      ],
      "metadata": {
        "id": "SnuG-UD3GWC1"
      },
      "execution_count": null,
      "outputs": []
    },
    {
      "cell_type": "code",
      "source": [
        "shared_drive_path = '/content/drive/MyDrive/01-1.정식개방데이터'\n",
        "os.chdir(shared_drive_path)"
      ],
      "metadata": {
        "id": "EWGdg3XHXJhL"
      },
      "execution_count": null,
      "outputs": []
    },
    {
      "cell_type": "code",
      "source": [
        "zip_files = glob.glob('*.zip')\n",
        "print(f\"zip files: {zip_files}\")"
      ],
      "metadata": {
        "id": "yFjt3L0_avzh"
      },
      "execution_count": null,
      "outputs": []
    },
    {
      "cell_type": "code",
      "source": [
        "# 첫번째 zip파일 선택(라벨링데이터)\n",
        "specific_zip_file = zip_files[0]\n",
        "\n",
        "# 첫번째 zip파일을 압축 해제할 폴더 생성 및 압축 해제\n",
        "specific_unzip_dir = 'Labeled_Data'\n",
        "os.makedirs(specific_unzip_dir, exist_ok=True)\n",
        "\n",
        "!unzip -q \"{specific_zip_file}\" -d \"{specific_unzip_dir}\"\n",
        "\n",
        "print(f\"specific zip file {specific_zip_file} has been unzipped into {specific_unzip_dir} directory.\")"
      ],
      "metadata": {
        "id": "-cIe6eVSbYFB"
      },
      "execution_count": null,
      "outputs": []
    },
    {
      "cell_type": "code",
      "source": [
        "# 나머지 zip파일 목록\n",
        "other_zip_files = zip_files[1:]\n",
        "\n",
        "# 나머지 ZIP 파일을 압축 해제할 폴더 생성 및 압축 해제\n",
        "other_unzip_dir = 'Source_Dataaaa'\n",
        "os.makedirs(other_unzip_dir, exist_ok=True)\n",
        "\n",
        "print(other_zip_files)"
      ],
      "metadata": {
        "id": "Yq71iwdqoet7"
      },
      "execution_count": null,
      "outputs": []
    },
    {
      "cell_type": "code",
      "source": [
        "!unzip -q \"{other_zip_files[0]}\" -d \"{other_unzip_dir}\"\n",
        "\n",
        "print(f\"{other_zip_files[0]} has been unzipped into {other_unzip_dir} directory.\")"
      ],
      "metadata": {
        "id": "ZvRQAbhGkuEL"
      },
      "execution_count": null,
      "outputs": []
    },
    {
      "cell_type": "code",
      "source": [
        "!unzip -q \"{other_zip_files[1]}\" -d \"{other_unzip_dir}\"\n",
        "\n",
        "print(f\"{other_zip_files[1]} has been unzipped into {other_unzip_dir} directory.\")"
      ],
      "metadata": {
        "id": "fgDCmw6MpJNj"
      },
      "execution_count": null,
      "outputs": []
    },
    {
      "cell_type": "code",
      "source": [
        "!unzip -q \"{other_zip_files[2]}\" -d \"{other_unzip_dir}\"\n",
        "\n",
        "print(f\"{other_zip_files[2]} has been unzipped into {other_unzip_dir} directory.\")"
      ],
      "metadata": {
        "id": "g0RKsxHCwfZi"
      },
      "execution_count": null,
      "outputs": []
    },
    {
      "cell_type": "code",
      "source": [
        "!unzip -q \"{other_zip_files[3]}\" -d \"{other_unzip_dir}\"\n",
        "\n",
        "print(f\"{other_zip_files[3]} has been unzipped into {other_unzip_dir} directory.\")"
      ],
      "metadata": {
        "id": "JLU4ur9Uwf1c"
      },
      "execution_count": null,
      "outputs": []
    },
    {
      "cell_type": "code",
      "source": [
        "!unzip -q \"{other_zip_files[4]}\" -d \"{other_unzip_dir}\"\n",
        "\n",
        "print(f\"{other_zip_files[4]} has been unzipped into {other_unzip_dir} directory.\")"
      ],
      "metadata": {
        "id": "a8nDbzcGwgZV"
      },
      "execution_count": null,
      "outputs": []
    },
    {
      "cell_type": "code",
      "source": [
        "from PIL import Image\n",
        "\n",
        "source_dir = '/content/drive/MyDrive/01-1.정식개방데이터/Source_Dataaaa'\n",
        "target_dir = '/content/drive/MyDrive/01-1.정식개방데이터/Source_Dataaaa_converted'\n",
        "\n",
        "# 변환된 이미지 파일 저장 디렉토리가 없는 경우 생성\n",
        "if not os.path.exists(target_dir):\n",
        "    os.makedirs(target_dir)\n",
        "\n",
        "for filename in os.listdir(source_dir):\n",
        "    # 파일 확장자 추출\n",
        "    name, ext = os.path.splitext(filename)\n",
        "    ext = ext.lower()\n",
        "\n",
        "    # jpg, png, jpeg 파일 변환\n",
        "    if ext in ['.jpg', '.jpeg', '.png']:\n",
        "        src_path = os.path.join(source_dir, filename)\n",
        "        dst_path = os.path.join(target_dir, name + '.jpg')\n",
        "\n",
        "        with Image.open(src_path) as img:\n",
        "            img = img.convert('RGB')\n",
        "            # JPEG 형식으로 저장\n",
        "            img.save(dst_path, 'JPEG')\n",
        "\n",
        "        print(f'Converted {src_path} to {dst_path}')\n",
        "\n",
        "print('변환 완료')"
      ],
      "metadata": {
        "id": "PS7GRniZakGJ"
      },
      "execution_count": null,
      "outputs": []
    },
    {
      "cell_type": "code",
      "source": [
        "# 두 개의 폴더 경로 설정\n",
        "LabeledData_path = '/content/drive/MyDrive/01-1.정식개방데이터/Labeled_Data/02.╢є║з╕╡╡е└╠┼═'\n",
        "SourceData_path = '/content/drive/MyDrive/01-1.정식개방데이터/Source_Dataaaa_converted'\n",
        "\n",
        "# 폴더 내 파일 개수 세기\n",
        "LabeledData_count = len([name for name in os.listdir(LabeledData_path) if os.path.isfile(os.path.join(LabeledData_path, name))])\n",
        "SourceData_count = len([name for name in os.listdir(SourceData_path) if os.path.isfile(os.path.join(SourceData_path, name))])\n",
        "\n",
        "# 결과 출력\n",
        "print(f\"라벨링데이터의 파일 개수: {LabeledData_count}\")\n",
        "print(f\"원천데이터의 파일 개수: {SourceData_count}\")"
      ],
      "metadata": {
        "id": "CKyd2Jhr86-X"
      },
      "execution_count": null,
      "outputs": []
    }
  ]
}